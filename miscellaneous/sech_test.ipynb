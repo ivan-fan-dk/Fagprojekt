{
 "cells": [
  {
   "cell_type": "code",
   "execution_count": 17,
   "metadata": {},
   "outputs": [
    {
     "data": {
      "image/png": "[encoded data removed]",
      "text/latex": [
       "$\\displaystyle \\left( 0.0176667226058432, \\  0.0176667226058432\\right)$"
      ],
      "text/plain": [
       "(0.0176667226058432, 0.0176667226058432)"
      ]
     },
     "execution_count": 17,
     "metadata": {},
     "output_type": "execute_result"
    }
   ],
   "source": [
    "#import sympy and init printing\n",
    "from sympy import *\n",
    "init_printing()\n",
    "x,x0,t,c = symbols('x x0 t c')\n",
    "\n",
    "\n",
    "u = S(1)/2 *c* sech(S(1)/2 * sqrt(c) * (x-c*t-x0))**2\n",
    "\n",
    "g = u.subs(x,x0).simplify()\n",
    "h = u.subs(t,0).simplify()\n",
    "\n",
    "diff(u,t).subs({x:1.1,t:1,c:0.5,x0:0}),(-6*u*diff(u,x)-diff(u,x,3)).subs({x:1.1,t:1,c:0.5,x0:0})"
   ]
  }
 ],
 "metadata": {
  "kernelspec": {
   "display_name": "Python 3",
   "language": "python",
   "name": "python3"
  },
  "language_info": {
   "codemirror_mode": {
    "name": "ipython",
    "version": 3
   },
   "file_extension": ".py",
   "mimetype": "text/x-python",
   "name": "python",
   "nbconvert_exporter": "python",
   "pygments_lexer": "ipython3",
   "version": "3.0.0"
  }
 },
 "nbformat": 4,
 "nbformat_minor": 2
}
