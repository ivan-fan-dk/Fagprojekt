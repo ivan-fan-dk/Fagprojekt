{
 "cells": [
  {
   "cell_type": "markdown",
   "metadata": {},
   "source": [
    "### Generate Option Price Data Set"
   ]
  },
  {
   "cell_type": "code",
   "execution_count": 3,
   "metadata": {},
   "outputs": [],
   "source": [
    "import pandas as pd\n",
    "import numpy as np\n",
    "import scipy.stats as ss\n",
    "import matplotlib.pyplot as plt\n",
    "#matplotlib inline"
   ]
  },
  {
   "cell_type": "markdown",
   "metadata": {},
   "source": [
    "#### Black Scholes Option Pricing Formula [wiki](https://en.wikipedia.org/wiki/Black%E2%80%93Scholes_model)"
   ]
  },
  {
   "cell_type": "code",
   "execution_count": 4,
   "metadata": {},
   "outputs": [],
   "source": [
    "def BS_Call(S,K,r,T,v,d=0):\n",
    "    d1 = (np.log(float(S)/K)+((r-d)+v*v/2.)*T)/(v*np.sqrt(T))\n",
    "    d2 = d1-v*np.sqrt(T)\n",
    "    return S*np.exp(-d*T)*ss.norm.cdf(d1)-K*np.exp(-r*T)*ss.norm.cdf(d2)\n"
   ]
  },
  {
   "cell_type": "markdown",
   "metadata": {},
   "source": [
    "#### Create range of option parameters"
   ]
  },
  {
   "cell_type": "code",
   "execution_count": 5,
   "metadata": {},
   "outputs": [
    {
     "data": {
      "text/plain": [
       "812250"
      ]
     },
     "execution_count": 5,
     "metadata": {},
     "output_type": "execute_result"
    }
   ],
   "source": [
    "# Stock Price\n",
    "S = np.arange(10, 200, 2)\n",
    "\n",
    "# Strike Price\n",
    "# To avoid extreme prices - K  will be a multiple of the Stock Price (S) rather than a completely seperate RV\n",
    "K = np.random.random(len(S)) + 0.5\n",
    "\n",
    "# Interest Rate\n",
    "r = 0.05\n",
    "\n",
    "# Time\n",
    "T = np.arange(0.1, 1, 0.10)\n",
    "\n",
    "# Volatility\n",
    "V = np.arange(0.1, 0.6, 0.05)\n",
    "\n",
    "# Number of option prices = life begins at a million examples...\n",
    "no_of_options = len(S)*len(K)*len(T)*len(V)\n",
    "no_of_options"
   ]
  },
  {
   "cell_type": "code",
   "execution_count": 12,
   "metadata": {},
   "outputs": [
    {
     "data": {
      "text/plain": [
       "array([0.26993195, 0.50972436, 0.90872874, 0.65623847, 0.17201869,\n",
       "       0.49542983, 0.08118597, 0.13833296, 0.03766328, 0.46305832,\n",
       "       0.67440612, 0.03936452, 0.09771147, 0.89085951, 0.83030149,\n",
       "       0.61695309, 0.21398725, 0.24847671, 0.45270389, 0.93998289,\n",
       "       0.83950819, 0.34572803, 0.27633384, 0.33981632, 0.65632977,\n",
       "       0.24991605, 0.48721526, 0.92612239, 0.23209995, 0.88176438,\n",
       "       0.74467626, 0.5698429 , 0.04397047, 0.81144644, 0.49082361,\n",
       "       0.07055646, 0.87514464, 0.18344633, 0.55971185, 0.0095539 ,\n",
       "       0.89447901, 0.24066481, 0.62088386, 0.38161047, 0.83978635,\n",
       "       0.74837254, 0.16060911, 0.93976626, 0.56267609, 0.32129206,\n",
       "       0.36015554, 0.0484945 , 0.4638495 , 0.56881918, 0.13620848,\n",
       "       0.54186288, 0.66145565, 0.91354846, 0.72338305, 0.3722362 ,\n",
       "       0.73513421, 0.22161379, 0.32476916, 0.30095739, 0.6459439 ,\n",
       "       0.67020753, 0.46638176, 0.16888125, 0.72107321, 0.77684111,\n",
       "       0.12510432, 0.36262776, 0.71586217, 0.169898  , 0.83553283,\n",
       "       0.78062904, 0.55762126, 0.62076925, 0.73563601, 0.87800292,\n",
       "       0.44230998, 0.05198836, 0.92691528, 0.61917624, 0.59260836,\n",
       "       0.84352073, 0.15569389, 0.59037217, 0.80154595, 0.17681701,\n",
       "       0.7896233 , 0.3469364 , 0.21795986, 0.97929435, 0.87419905])"
      ]
     },
     "execution_count": 12,
     "metadata": {},
     "output_type": "execute_result"
    }
   ],
   "source": [
    "np.random.random(len(S)) "
   ]
  },
  {
   "cell_type": "code",
   "execution_count": 6,
   "metadata": {},
   "outputs": [],
   "source": [
    "# Create numpy array to store option data\n",
    "prices = np.empty([no_of_options,5], dtype=float)"
   ]
  },
  {
   "cell_type": "markdown",
   "metadata": {},
   "source": [
    "#### Caclculate Option Price using Black Scholes for each combination of parameters"
   ]
  },
  {
   "cell_type": "code",
   "execution_count": 7,
   "metadata": {},
   "outputs": [
    {
     "name": "stdout",
     "output_type": "stream",
     "text": [
      "CPU times: user 2min, sys: 145 ms, total: 2min\n",
      "Wall time: 2min 5s\n"
     ]
    }
   ],
   "source": [
    "%%time\n",
    "# Track time record (1-2 minutes)\n",
    "\n",
    "\n",
    "# Loop through parameters\n",
    "x = 0\n",
    "for s in S:\n",
    "    for k in K:\n",
    "        for t in T:\n",
    "            for v in V:\n",
    "                prices[x,:] = [s,s*k,t,v,BS_Call(s,s*k,r,t,v)]\n",
    "                x+=1"
   ]
  },
  {
   "cell_type": "markdown",
   "metadata": {},
   "source": [
    "#### Pass values to a DataFrame"
   ]
  },
  {
   "cell_type": "code",
   "execution_count": 8,
   "metadata": {},
   "outputs": [],
   "source": [
    "#Do not store constant interest rate value\n",
    "option_df = pd.DataFrame(index = range(no_of_options), columns = \n",
    "                         ['Stock', \n",
    "                          'Strike',\n",
    "                          'Time',\n",
    "                          'Volatility',\n",
    "                          'Call Price'], data = prices )"
   ]
  },
  {
   "cell_type": "markdown",
   "metadata": {},
   "source": [
    "#### Write file to disk (pkl < csv)"
   ]
  },
  {
   "cell_type": "code",
   "execution_count": 9,
   "metadata": {},
   "outputs": [],
   "source": [
    "option_df.to_pickle(\"option_data.pkl\")"
   ]
  },
  {
   "cell_type": "code",
   "execution_count": 10,
   "metadata": {},
   "outputs": [
    {
     "data": {
      "text/html": [
       "<div>\n",
       "<style scoped>\n",
       "    .dataframe tbody tr th:only-of-type {\n",
       "        vertical-align: middle;\n",
       "    }\n",
       "\n",
       "    .dataframe tbody tr th {\n",
       "        vertical-align: top;\n",
       "    }\n",
       "\n",
       "    .dataframe thead th {\n",
       "        text-align: right;\n",
       "    }\n",
       "</style>\n",
       "<table border=\"1\" class=\"dataframe\">\n",
       "  <thead>\n",
       "    <tr style=\"text-align: right;\">\n",
       "      <th></th>\n",
       "      <th>Stock</th>\n",
       "      <th>Strike</th>\n",
       "      <th>Time</th>\n",
       "      <th>Volatility</th>\n",
       "      <th>Call Price</th>\n",
       "    </tr>\n",
       "  </thead>\n",
       "  <tbody>\n",
       "    <tr>\n",
       "      <th>0</th>\n",
       "      <td>10.0</td>\n",
       "      <td>8.862299</td>\n",
       "      <td>0.1</td>\n",
       "      <td>0.10</td>\n",
       "      <td>1.181904</td>\n",
       "    </tr>\n",
       "    <tr>\n",
       "      <th>1</th>\n",
       "      <td>10.0</td>\n",
       "      <td>8.862299</td>\n",
       "      <td>0.1</td>\n",
       "      <td>0.15</td>\n",
       "      <td>1.182454</td>\n",
       "    </tr>\n",
       "    <tr>\n",
       "      <th>2</th>\n",
       "      <td>10.0</td>\n",
       "      <td>8.862299</td>\n",
       "      <td>0.1</td>\n",
       "      <td>0.20</td>\n",
       "      <td>1.187097</td>\n",
       "    </tr>\n",
       "    <tr>\n",
       "      <th>3</th>\n",
       "      <td>10.0</td>\n",
       "      <td>8.862299</td>\n",
       "      <td>0.1</td>\n",
       "      <td>0.25</td>\n",
       "      <td>1.199516</td>\n",
       "    </tr>\n",
       "    <tr>\n",
       "      <th>4</th>\n",
       "      <td>10.0</td>\n",
       "      <td>8.862299</td>\n",
       "      <td>0.1</td>\n",
       "      <td>0.30</td>\n",
       "      <td>1.220254</td>\n",
       "    </tr>\n",
       "    <tr>\n",
       "      <th>...</th>\n",
       "      <td>...</td>\n",
       "      <td>...</td>\n",
       "      <td>...</td>\n",
       "      <td>...</td>\n",
       "      <td>...</td>\n",
       "    </tr>\n",
       "    <tr>\n",
       "      <th>812245</th>\n",
       "      <td>198.0</td>\n",
       "      <td>235.473591</td>\n",
       "      <td>0.9</td>\n",
       "      <td>0.35</td>\n",
       "      <td>16.374997</td>\n",
       "    </tr>\n",
       "    <tr>\n",
       "      <th>812246</th>\n",
       "      <td>198.0</td>\n",
       "      <td>235.473591</td>\n",
       "      <td>0.9</td>\n",
       "      <td>0.40</td>\n",
       "      <td>20.058603</td>\n",
       "    </tr>\n",
       "    <tr>\n",
       "      <th>812247</th>\n",
       "      <td>198.0</td>\n",
       "      <td>235.473591</td>\n",
       "      <td>0.9</td>\n",
       "      <td>0.45</td>\n",
       "      <td>23.779296</td>\n",
       "    </tr>\n",
       "    <tr>\n",
       "      <th>812248</th>\n",
       "      <td>198.0</td>\n",
       "      <td>235.473591</td>\n",
       "      <td>0.9</td>\n",
       "      <td>0.50</td>\n",
       "      <td>27.519020</td>\n",
       "    </tr>\n",
       "    <tr>\n",
       "      <th>812249</th>\n",
       "      <td>198.0</td>\n",
       "      <td>235.473591</td>\n",
       "      <td>0.9</td>\n",
       "      <td>0.55</td>\n",
       "      <td>31.265361</td>\n",
       "    </tr>\n",
       "  </tbody>\n",
       "</table>\n",
       "<p>812250 rows × 5 columns</p>\n",
       "</div>"
      ],
      "text/plain": [
       "        Stock      Strike  Time  Volatility  Call Price\n",
       "0        10.0    8.862299   0.1        0.10    1.181904\n",
       "1        10.0    8.862299   0.1        0.15    1.182454\n",
       "2        10.0    8.862299   0.1        0.20    1.187097\n",
       "3        10.0    8.862299   0.1        0.25    1.199516\n",
       "4        10.0    8.862299   0.1        0.30    1.220254\n",
       "...       ...         ...   ...         ...         ...\n",
       "812245  198.0  235.473591   0.9        0.35   16.374997\n",
       "812246  198.0  235.473591   0.9        0.40   20.058603\n",
       "812247  198.0  235.473591   0.9        0.45   23.779296\n",
       "812248  198.0  235.473591   0.9        0.50   27.519020\n",
       "812249  198.0  235.473591   0.9        0.55   31.265361\n",
       "\n",
       "[812250 rows x 5 columns]"
      ]
     },
     "execution_count": 10,
     "metadata": {},
     "output_type": "execute_result"
    }
   ],
   "source": [
    "option_df"
   ]
  },
  {
   "cell_type": "code",
   "execution_count": null,
   "metadata": {},
   "outputs": [],
   "source": []
  }
 ],
 "metadata": {
  "kernelspec": {
   "display_name": "Python 3",
   "language": "python",
   "name": "python3"
  },
  "language_info": {
   "codemirror_mode": {
    "name": "ipython",
    "version": 3
   },
   "file_extension": ".py",
   "mimetype": "text/x-python",
   "name": "python",
   "nbconvert_exporter": "python",
   "pygments_lexer": "ipython3",
   "version": "3.7.12"
  }
 },
 "nbformat": 4,
 "nbformat_minor": 2
}
